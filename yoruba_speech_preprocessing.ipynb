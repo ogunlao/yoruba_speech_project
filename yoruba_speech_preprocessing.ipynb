{
 "cells": [
  {
   "cell_type": "markdown",
   "metadata": {},
   "source": [
    "# Preprocessing"
   ]
  },
  {
   "cell_type": "code",
   "execution_count": null,
   "metadata": {},
   "outputs": [],
   "source": [
    "# import os\n",
    "# from random import randint, uniform\n",
    "# import re\n",
    "# import numpy as np\n",
    "# import wave\n",
    "# import contextlib"
   ]
  },
  {
   "cell_type": "markdown",
   "metadata": {},
   "source": [
    "## Data Preparation for Recording"
   ]
  },
  {
   "cell_type": "code",
   "execution_count": 1,
   "metadata": {},
   "outputs": [],
   "source": [
    "MAX_SENTENCE_LEN = 20\n",
    "SOURCE_PATH = 'yor_trans.txt'\n",
    "DEST_TEMP_PATH = 'yor_split.txt'\n",
    "DEST_TEMP_CLEAN_PATH = 'yor_clean_split.txt'\n",
    "NUM_FOLDER_SPLIT = 50\n",
    "FOLDER_PATH=\"split_text\"\n",
    "PARTIAL_NAME= \"yor_split\""
   ]
  },
  {
   "cell_type": "code",
   "execution_count": 2,
   "metadata": {},
   "outputs": [
    {
     "name": "stdout",
     "output_type": "stream",
     "text": [
      "mkdir: cannot create directory ‘split_text’: File exists\n"
     ]
    }
   ],
   "source": [
    "!mkdir {FOLDER_PATH}"
   ]
  },
  {
   "cell_type": "code",
   "execution_count": 3,
   "metadata": {},
   "outputs": [],
   "source": [
    "from yor_processor import split_file, split_file_into_folders"
   ]
  },
  {
   "cell_type": "code",
   "execution_count": 4,
   "metadata": {},
   "outputs": [],
   "source": [
    "status = split_file(SOURCE_PATH, DEST_TEMP_PATH, MAX_SENTENCE_LEN)\n",
    "# clean_file_status = split_file(SOURCE_PATH, DEST_TEMP_CLEAN_PATH, MAX_SENTENCE_LEN, end_of_file=\"\\n\")\n",
    "if status == 'done':\n",
    "    split_file_into_folders(FOLDER_PATH, DEST_TEMP_PATH, PARTIAL_NAME, NUM_FOLDER_SPLIT)"
   ]
  },
  {
   "cell_type": "markdown",
   "metadata": {},
   "source": [
    "## Calculate Total Recording Lengths"
   ]
  },
  {
   "cell_type": "code",
   "execution_count": 5,
   "metadata": {},
   "outputs": [],
   "source": [
    "DIR_OF_REC = \"./recordings/\"\n",
    "FILE_FORMAT = \".wav\""
   ]
  },
  {
   "cell_type": "code",
   "execution_count": 6,
   "metadata": {},
   "outputs": [
    {
     "name": "stdout",
     "output_type": "stream",
     "text": [
      "total len of recording is  11030.87 s ,  3.0641296354166636 h\n"
     ]
    }
   ],
   "source": [
    "from yor_processor import calculate_recording_len\n",
    "\n",
    "total_len, good_files, corrupted_files = calculate_recording_len(DIR_OF_REC, FILE_FORMAT)\n",
    "print(\"total len of recording is \", round(total_len, 2), \"s\",\", \",total_len/(60*60),\"h\")"
   ]
  },
  {
   "cell_type": "code",
   "execution_count": 7,
   "metadata": {},
   "outputs": [
    {
     "name": "stdout",
     "output_type": "stream",
     "text": [
      "1079\n",
      "30\n"
     ]
    }
   ],
   "source": [
    "print(good_files)\n",
    "print(corrupted_files)"
   ]
  },
  {
   "cell_type": "markdown",
   "metadata": {},
   "source": [
    "# Organizing data"
   ]
  },
  {
   "cell_type": "markdown",
   "metadata": {},
   "source": [
    "### Spliting records to train, val and test sets"
   ]
  },
  {
   "cell_type": "code",
   "execution_count": 8,
   "metadata": {},
   "outputs": [
    {
     "name": "stdout",
     "output_type": "stream",
     "text": [
      "mkdir: cannot create directory ‘data’: File exists\n",
      "mkdir: cannot create directory ‘data/records’: File exists\n"
     ]
    }
   ],
   "source": [
    "!mkdir data\n",
    "!mkdir data/records"
   ]
  },
  {
   "cell_type": "code",
   "execution_count": 9,
   "metadata": {},
   "outputs": [],
   "source": [
    "from yor_processor import extract_non_corrupted_files\n",
    "\n",
    "wav_files, linker = extract_non_corrupted_files(DIR_OF_REC)"
   ]
  },
  {
   "cell_type": "code",
   "execution_count": 10,
   "metadata": {},
   "outputs": [],
   "source": [
    "# copy wav files\n",
    "to_copy = \" \".join(wav_files)\n",
    "!cp -t data/records/ {to_copy}"
   ]
  },
  {
   "cell_type": "code",
   "execution_count": 11,
   "metadata": {},
   "outputs": [],
   "source": [
    "# add linker files\n",
    "for i, link in enumerate(linker):\n",
    "    line = link.split(\";\")[0].split(\"(\")[1].split(\")\")[0].strip()\n",
    "    wav = link.split(\";\")[1].strip().split(\"/\")[-1]\n",
    "    linker[i] = wav+\":\"+line"
   ]
  },
  {
   "cell_type": "code",
   "execution_count": 12,
   "metadata": {},
   "outputs": [],
   "source": [
    "out_linker = open(\"./data/linker.txt\",\"w\")\n",
    "out_linker.write(\"\\n\".join(linker))\n",
    "out_linker.close()"
   ]
  },
  {
   "cell_type": "code",
   "execution_count": 13,
   "metadata": {},
   "outputs": [
    {
     "name": "stdout",
     "output_type": "stream",
     "text": [
      "mkdir: cannot create directory ‘./data/records/train’: File exists\n",
      "mkdir: cannot create directory ‘./data/records/test’: File exists\n",
      "mkdir: cannot create directory ‘./data/records/val’: File exists\n",
      "mkdir: cannot create directory ‘./data/records/extra’: File exists\n"
     ]
    }
   ],
   "source": [
    "!mkdir ./data/records/train\n",
    "!mkdir ./data/records/test\n",
    "!mkdir ./data/records/val\n",
    "!mkdir ./data/records/extra"
   ]
  },
  {
   "cell_type": "code",
   "execution_count": 14,
   "metadata": {},
   "outputs": [],
   "source": [
    "from yor_processor import split_train_val_test\n",
    "\n",
    "# reduce to 2hrs data since I have 3hrs of data\n",
    "# split 1hr into train and val\n",
    "to_copy_train, to_copy_valid, to_copy_test, to_copy_extra = split_train_val_test(wav_files, \n",
    "                                                                                 num_splits=3, # reduce to 2hrs data since I have 3hrs of data\n",
    "                                                                                 val_split=0.2)"
   ]
  },
  {
   "cell_type": "code",
   "execution_count": 15,
   "metadata": {},
   "outputs": [],
   "source": [
    "!mv -t data/records/train/ {to_copy_train}\n",
    "!mv -t data/records/val/ {to_copy_valid}\n",
    "!mv -t data/records/test/ {to_copy_test}\n",
    "!mv -t data/records/extra/ {to_copy_extra}"
   ]
  },
  {
   "cell_type": "markdown",
   "metadata": {},
   "source": [
    "### Make chars.txt file"
   ]
  },
  {
   "cell_type": "code",
   "execution_count": 16,
   "metadata": {},
   "outputs": [],
   "source": [
    "from yor_processor import create_char_set\n",
    "\n",
    "chars_dict, text_data  = create_char_set(linker, path=\"./yor_split.txt\", exclude=\"[##\\n\\.,''-''̀''́''-']\")"
   ]
  },
  {
   "cell_type": "code",
   "execution_count": 17,
   "metadata": {},
   "outputs": [
    {
     "name": "stdout",
     "output_type": "stream",
     "text": [
      "{'ε': 0, ' ': 1, 'y': 2, 'à': 3, 'n': 4, 'r': 5, 'j': 6, 'ọ': 7, 'ì': 8, 'ù': 9, 'd': 10, 'i': 11, 'u': 12, 'm': 13, 'b': 14, 'e': 15, 'ẹ': 16, 'l': 17, 'o': 18, 'ò': 19, 't': 20, 'a': 21, 'g': 22, 's': 23, 'f': 24, 'è': 25, 'k': 26, 'á': 27, 'é': 28, 'ó': 29, 'w': 30, 'í': 31, 'p': 32, 'ṣ': 33, 'ú': 34, 'h': 35, '-': 36}\n"
     ]
    }
   ],
   "source": [
    "print(chars_dict)"
   ]
  },
  {
   "cell_type": "markdown",
   "metadata": {},
   "source": [
    "### Create data in format for training"
   ]
  },
  {
   "cell_type": "code",
   "execution_count": 18,
   "metadata": {},
   "outputs": [
    {
     "name": "stdout",
     "output_type": "stream",
     "text": [
      "files created for training\n"
     ]
    }
   ],
   "source": [
    "from yor_processor import create_data_format\n",
    "\n",
    "create_data_format(text_data, chars_dict)"
   ]
  }
 ],
 "metadata": {
  "kernelspec": {
   "display_name": "Python 3",
   "language": "python",
   "name": "python3"
  },
  "language_info": {
   "codemirror_mode": {
    "name": "ipython",
    "version": 3
   },
   "file_extension": ".py",
   "mimetype": "text/x-python",
   "name": "python",
   "nbconvert_exporter": "python",
   "pygments_lexer": "ipython3",
   "version": "3.7.3"
  }
 },
 "nbformat": 4,
 "nbformat_minor": 4
}

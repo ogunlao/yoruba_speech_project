{
 "cells": [
  {
   "cell_type": "markdown",
   "metadata": {},
   "source": [
    "# Preprocessing"
   ]
  },
  {
   "cell_type": "code",
   "execution_count": null,
   "metadata": {},
   "outputs": [],
   "source": [
    "# import os\n",
    "# from random import randint, uniform\n",
    "# import re\n",
    "# import numpy as np\n",
    "# import wave\n",
    "# import contextlib"
   ]
  },
  {
   "cell_type": "markdown",
   "metadata": {},
   "source": [
    "## Data Preparation for Recording"
   ]
  },
  {
   "cell_type": "code",
   "execution_count": 1,
   "metadata": {},
   "outputs": [],
   "source": [
    "MAX_SENTENCE_LEN = 20\n",
    "SOURCE_PATH = 'yor_trans.txt'\n",
    "DEST_TEMP_PATH = 'yor_split.txt'\n",
    "DEST_TEMP_CLEAN_PATH = 'yor_clean_split.txt'\n",
    "NUM_FOLDER_SPLIT = 50\n",
    "FOLDER_PATH=\"split_text\"\n",
    "PARTIAL_NAME= \"yor_split\""
   ]
  },
  {
   "cell_type": "code",
   "execution_count": 2,
   "metadata": {},
   "outputs": [],
   "source": [
    "from yor_processor import split_file, split_file_into_folders"
   ]
  },
  {
   "cell_type": "code",
   "execution_count": 3,
   "metadata": {},
   "outputs": [],
   "source": [
    "status = split_file(SOURCE_PATH, DEST_TEMP_PATH, MAX_SENTENCE_LEN)\n",
    "# clean_file_status = split_file(SOURCE_PATH, DEST_TEMP_CLEAN_PATH, MAX_SENTENCE_LEN, end_of_file=\"\\n\")\n",
    "if status == 'done':\n",
    "    split_file_into_folders(FOLDER_PATH, DEST_TEMP_PATH, PARTIAL_NAME, NUM_FOLDER_SPLIT)"
   ]
  },
  {
   "cell_type": "markdown",
   "metadata": {},
   "source": [
    "## Calculate Total Recording Lengths"
   ]
  },
  {
   "cell_type": "code",
   "execution_count": 4,
   "metadata": {},
   "outputs": [],
   "source": [
    "DIR_OF_REC = \"./recordings/\"\n",
    "FILE_FORMAT = \".wav\""
   ]
  },
  {
   "cell_type": "code",
   "execution_count": 5,
   "metadata": {},
   "outputs": [
    {
     "name": "stdout",
     "output_type": "stream",
     "text": [
      "total len of recording is  11030.87 s ,  3.0641296354166636 h\n"
     ]
    }
   ],
   "source": [
    "from yor_processor import calculate_recording_len\n",
    "\n",
    "total_len, good_files, corrupted_files = calculate_recording_len(DIR_OF_REC, FILE_FORMAT)\n",
    "print(\"total len of recording is \", round(total_len, 2), \"s\",\", \",total_len/(60*60),\"h\")"
   ]
  },
  {
   "cell_type": "code",
   "execution_count": 6,
   "metadata": {},
   "outputs": [
    {
     "name": "stdout",
     "output_type": "stream",
     "text": [
      "1079\n",
      "30\n"
     ]
    }
   ],
   "source": [
    "print(good_files)\n",
    "print(corrupted_files)"
   ]
  },
  {
   "cell_type": "markdown",
   "metadata": {},
   "source": [
    "# Organizing data"
   ]
  },
  {
   "cell_type": "markdown",
   "metadata": {},
   "source": [
    "### Spliting records to train, val and test sets"
   ]
  },
  {
   "cell_type": "code",
   "execution_count": 7,
   "metadata": {},
   "outputs": [],
   "source": [
    "!mkdir data\n",
    "!mkdir data/records"
   ]
  },
  {
   "cell_type": "code",
   "execution_count": 8,
   "metadata": {},
   "outputs": [],
   "source": [
    "from yor_processor import extract_non_corrupted_files\n",
    "\n",
    "wav_files, all_linkers = extract_non_corrupted_files(DIR_OF_REC)"
   ]
  },
  {
   "cell_type": "code",
   "execution_count": 9,
   "metadata": {},
   "outputs": [
    {
     "data": {
      "text/plain": [
       "dict_keys(['200625-230031_yor_874_elicit', '200630-123859_yor_874_elicit', '200630-112655_yor_874_elicit', '200629-222626_yor_874_elicit', '200629-234938_yor_874_elicit', '200630-092358_yor_874_elicit', '200630-110532_yor_874_elicit', '200625-215447_yor_874_elicit', '200630-101743_yor_874_elicit', '200629-230040_yor_874_elicit', '200625-221631_yor_874_elicit', '200630-003859_yor_874_elicit', '200626-001537_yor_874_elicit', '200625-223759_yor_874_elicit', '200630-095103_yor_874_elicit', '200629-232814_yor_874_elicit', '200625-232021_yor_874_elicit', '200630-115031_yor_874_elicit', '200629-205402_yor_874_elicit', '200625-235253_yor_874_elicit', '200630-121116_yor_874_elicit', '200630-001255_yor_874_elicit'])"
      ]
     },
     "execution_count": 9,
     "metadata": {},
     "output_type": "execute_result"
    }
   ],
   "source": [
    "all_linkers.keys()"
   ]
  },
  {
   "cell_type": "code",
   "execution_count": 10,
   "metadata": {},
   "outputs": [],
   "source": [
    "# copy wav files\n",
    "to_copy = \" \".join(wav_files)\n",
    "!cp -t data/records/ {to_copy}"
   ]
  },
  {
   "cell_type": "code",
   "execution_count": 11,
   "metadata": {},
   "outputs": [],
   "source": [
    "new_linkers = dict()\n",
    "for section, linker in all_linkers.items():\n",
    "    for i,link in enumerate(linker):\n",
    "        text_file_name = link.split(\" \")[0].split(\"/\")[-1]\n",
    "        line = link.split(\";\")[0].split(\"(\")[1].split(\")\")[0].strip()\n",
    "        wav = link.split(\";\")[1].strip().split(\"/\")[-1]\n",
    "\n",
    "        linker[i] = wav+\":\"+line\n",
    "        new_linkers[text_file_name] = linker"
   ]
  },
  {
   "cell_type": "code",
   "execution_count": 12,
   "metadata": {},
   "outputs": [],
   "source": [
    "!mkdir ./data/records/train\n",
    "!mkdir ./data/records/test\n",
    "!mkdir ./data/records/val\n",
    "!mkdir ./data/records/extra"
   ]
  },
  {
   "cell_type": "code",
   "execution_count": 13,
   "metadata": {},
   "outputs": [],
   "source": [
    "from yor_processor import split_train_val_test\n",
    "\n",
    "# reduce to 2hrs data by splitting into 3 with 3hrs of data\n",
    "# split 1hr into train and val\n",
    "to_copy_train, to_copy_valid, to_copy_test, to_copy_extra = split_train_val_test(wav_files, \n",
    "                                                                                 num_splits=3, # reduce to 2hrs data since I have 3hrs of data\n",
    "                                                                                 val_split=0.2)"
   ]
  },
  {
   "cell_type": "code",
   "execution_count": 14,
   "metadata": {},
   "outputs": [],
   "source": [
    "!mv -t data/records/train/ {to_copy_train}\n",
    "!mv -t data/records/val/ {to_copy_valid}\n",
    "!mv -t data/records/test/ {to_copy_test}\n",
    "!mv -t data/records/extra/ {to_copy_extra}"
   ]
  },
  {
   "cell_type": "markdown",
   "metadata": {},
   "source": [
    "### Make chars.txt file"
   ]
  },
  {
   "cell_type": "code",
   "execution_count": 15,
   "metadata": {},
   "outputs": [],
   "source": [
    "from yor_processor import create_char_set\n",
    "\n",
    "chars_list, text_data  = create_char_set(new_linkers, path=\"./split_text/\", exclude=\"[\\n\\.,''-''̀''́'''!-]\")"
   ]
  },
  {
   "cell_type": "code",
   "execution_count": 16,
   "metadata": {},
   "outputs": [
    {
     "name": "stdout",
     "output_type": "stream",
     "text": [
      "{' ': 1, 'ε': 0, 'à': 2, 'é': 3, 'l': 4, 'i': 5, 'r': 6, 'ṣ': 7, 'ò': 8, 'p': 9, 'v': 10, 'ú': 11, 'n': 12, 'b': 13, 'o': 14, 'y': 15, 'ọ': 16, 'd': 17, 'g': 18, 'e': 19, 't': 20, 'k': 21, 'ì': 22, 'j': 23, 'á': 24, 'è': 25, 'ù': 26, 'ẹ': 27, 'a': 28, 'í': 29, 's': 30, 'h': 31, 'w': 32, 'f': 33, 'ó': 34, 'm': 35, 'u': 36, 'c': 37, '–': 38, 'ń': 39, 'ǹ': 40, 'z': 41, 'ḿ': 42, 'ί': 43, 'ὸ': 44}\n"
     ]
    }
   ],
   "source": [
    "print(chars_list)"
   ]
  },
  {
   "cell_type": "markdown",
   "metadata": {},
   "source": [
    "### Create data in format for training"
   ]
  },
  {
   "cell_type": "code",
   "execution_count": 17,
   "metadata": {},
   "outputs": [
    {
     "name": "stdout",
     "output_type": "stream",
     "text": [
      "files created for training\n"
     ]
    }
   ],
   "source": [
    "from yor_processor import create_data_format\n",
    "\n",
    "create_data_format(text_data, chars_list)"
   ]
  },
  {
   "cell_type": "code",
   "execution_count": 18,
   "metadata": {},
   "outputs": [
    {
     "data": {
      "text/plain": [
       "45"
      ]
     },
     "execution_count": 18,
     "metadata": {},
     "output_type": "execute_result"
    }
   ],
   "source": [
    "len(chars_list)"
   ]
  }
 ],
 "metadata": {
  "kernelspec": {
   "display_name": "Python 3",
   "language": "python",
   "name": "python3"
  },
  "language_info": {
   "codemirror_mode": {
    "name": "ipython",
    "version": 3
   },
   "file_extension": ".py",
   "mimetype": "text/x-python",
   "name": "python",
   "nbconvert_exporter": "python",
   "pygments_lexer": "ipython3",
   "version": "3.7.3"
  }
 },
 "nbformat": 4,
 "nbformat_minor": 4
}
